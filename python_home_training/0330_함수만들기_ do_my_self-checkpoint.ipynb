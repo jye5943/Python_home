{
 "cells": [
  {
   "cell_type": "code",
   "execution_count": 93,
   "metadata": {},
   "outputs": [],
   "source": [
    "from isoweek import Week"
   ]
  },
  {
   "cell_type": "code",
   "execution_count": 94,
   "metadata": {},
   "outputs": [],
   "source": [
    "inputYearWeek=\"201808\"\n",
    "inputWeek=\"23\""
   ]
  },
  {
   "cell_type": "code",
   "execution_count": 95,
   "metadata": {},
   "outputs": [],
   "source": [
    "turnOutInputWeek=int(inputWeek)"
   ]
  },
  {
   "cell_type": "code",
   "execution_count": 96,
   "metadata": {},
   "outputs": [],
   "source": [
    "#inoutYearWeek에서 index하기 위해 str으로 변환\n",
    "intYear=int(str(inputYearWeek)[0:4])\n",
    "intWeek=int(str(inputYearWeek)[4:])"
   ]
  },
  {
   "cell_type": "code",
   "execution_count": 97,
   "metadata": {
    "scrolled": true
   },
   "outputs": [],
   "source": [
    "##gapWeek 원래 주차에 넣은 값 차\n",
    "#inputWeek은 내가 빼고 싶은 주차 값!!!\n",
    "gapWeek=intWeek-turnOutInputWeek"
   ]
  },
  {
   "cell_type": "code",
   "execution_count": 98,
   "metadata": {},
   "outputs": [
    {
     "data": {
      "text/plain": [
       "'2018-15'"
      ]
     },
     "execution_count": 98,
     "metadata": {},
     "output_type": "execute_result"
    }
   ],
   "source": [
    "##return값 반환\n",
    "answer=str(intYear)+str(gapWeek)\n",
    "answer"
   ]
  },
  {
   "cell_type": "code",
   "execution_count": 99,
   "metadata": {},
   "outputs": [
    {
     "data": {
      "text/plain": [
       "'2018-15'"
      ]
     },
     "execution_count": 99,
     "metadata": {},
     "output_type": "execute_result"
    }
   ],
   "source": [
    "    strYear=str(inputYearWeek)[0:4]\n",
    "    strWeek=str(inputYearWeek)[4:]\n",
    "    intWeek=int(strWeek)\n",
    "    intYear=int(strYear)\n",
    "    gapWeek=intWeek-turnOutInputWeek\n",
    "    \n",
    "    if (gapWeek>0) :\n",
    "        answer\n",
    "answer"
   ]
  },
  {
   "cell_type": "code",
   "execution_count": 121,
   "metadata": {},
   "outputs": [],
   "source": [
    "    strYear=str(inputYearWeek)[0:4]\n",
    "    strWeek=str(inputYearWeek)[4:]\n",
    "    intoWeek=int(strWeek)\n",
    "    intoYear=int(strYear)\n",
    "    gapWeek=intWeek-turnOutInputWeek\n",
    "      \n"
   ]
  },
  {
   "cell_type": "code",
   "execution_count": 122,
   "metadata": {},
   "outputs": [
    {
     "ename": "IndentationError",
     "evalue": "unexpected indent (<ipython-input-122-f57757a19666>, line 5)",
     "output_type": "error",
     "traceback": [
      "\u001b[1;36m  File \u001b[1;32m\"<ipython-input-122-f57757a19666>\"\u001b[1;36m, line \u001b[1;32m5\u001b[0m\n\u001b[1;33m    intoYear = intoYear-1\u001b[0m\n\u001b[1;37m    ^\u001b[0m\n\u001b[1;31mIndentationError\u001b[0m\u001b[1;31m:\u001b[0m unexpected indent\n"
     ]
    }
   ],
   "source": [
    "def isoweekHam (inputYearWeek,inputWeek):\n",
    "    if gapWeek > 0 :\n",
    "        gapWeek = gapWeek\n",
    "    else :gapWeek <= 0\n",
    "        intoYear = intoYear-1\n",
    "        gapWeek= Week.last_week_of_year(intoYear).week + gapWeek \n",
    "    return answer"
   ]
  },
  {
   "cell_type": "code",
   "execution_count": null,
   "metadata": {},
   "outputs": [],
   "source": []
  },
  {
   "cell_type": "code",
   "execution_count": null,
   "metadata": {},
   "outputs": [],
   "source": [
    "\n"
   ]
  }
 ],
 "metadata": {
  "kernelspec": {
   "display_name": "Python 3",
   "language": "python",
   "name": "python3"
  },
  "language_info": {
   "codemirror_mode": {
    "name": "ipython",
    "version": 3
   },
   "file_extension": ".py",
   "mimetype": "text/x-python",
   "name": "python",
   "nbconvert_exporter": "python",
   "pygments_lexer": "ipython3",
   "version": "3.7.1"
  }
 },
 "nbformat": 4,
 "nbformat_minor": 2
}
